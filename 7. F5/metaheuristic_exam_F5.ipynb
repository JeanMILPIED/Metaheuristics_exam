{
 "cells": [
  {
   "cell_type": "markdown",
   "metadata": {},
   "source": [
    "### METAHEURISTICS EXAM DSTI A19\n",
    "#### Jean MILPIED\n",
    "#### date: May 26\n",
    "\n",
    "### F5: Shifted Griewank’s Function "
   ]
  },
  {
   "cell_type": "markdown",
   "metadata": {},
   "source": [
    "The shifted Griewank's function is:  \n",
    "sum for i = 1 to D of ((z[i])^2 / 4000) - product for i=1 to D of cos(z[i] / sqrt(i)) + 1 + bias, where z=x-O, x of D dimension and where O is the shift of dimension D  \n",
    "x belongs [-600,600] f_bias= -180"
   ]
  },
  {
   "cell_type": "code",
   "execution_count": 1,
   "metadata": {},
   "outputs": [],
   "source": [
    "import scipy\n",
    "import numpy as np\n",
    "from scipy.optimize import minimize\n",
    "import matplotlib.pyplot as plt\n",
    "from random import uniform\n",
    "import math\n",
    "import time\n",
    "from scipy.optimize import rosen, differential_evolution"
   ]
  },
  {
   "cell_type": "code",
   "execution_count": 8,
   "metadata": {},
   "outputs": [],
   "source": [
    "#objective function\n",
    "def objective_F5(my_x):\n",
    "    my_z=my_x-my_shift\n",
    "    my_z_square=np.square(my_z)\n",
    "    my_z_costerm=[np.cos(my_z[i]/np.sqrt(i+1)) for i in range(my_z.size)]\n",
    "    my_J=sum(my_z_square)/4000-np.prod(my_z_costerm)+1-180 #bias is -180\n",
    "    return my_J"
   ]
  },
  {
   "cell_type": "code",
   "execution_count": 9,
   "metadata": {},
   "outputs": [],
   "source": [
    "#initialize function\n",
    "def initialize_my_X (D,range_min, range_max):\n",
    "    my_X_init=np.random.uniform(low=range_min, high=range_max, size=D)\n",
    "    return my_X_init"
   ]
  },
  {
   "cell_type": "code",
   "execution_count": 10,
   "metadata": {},
   "outputs": [],
   "source": [
    "global my_obj #we create a global variable to consolidate the evolution of the objective function\n",
    "#call-back function for the optimizer\n",
    "def costF(Xi,convergence):\n",
    "    my_X=Xi\n",
    "    my_obj.append(objective_F5(Xi))"
   ]
  },
  {
   "cell_type": "code",
   "execution_count": 11,
   "metadata": {},
   "outputs": [],
   "source": [
    "my_obj=[]\n",
    "\n",
    "def problem(my_size, my_func,my_bound_min,my_bound_max):\n",
    "    global my_shift\n",
    "    #my_X0_2=initialize_my_X(my_size,my_bound_min,my_bound_max)\n",
    "    my_bounds=[(my_bound_min,my_bound_max) for i in range(my_size)]\n",
    "    print(my_bounds)\n",
    "    my_shift=initialize_my_X(my_size,my_bound_min,my_bound_max) #we initialize the shift at random (this can be changed)\n",
    "    t1=time.time()\n",
    "    res = differential_evolution(my_func, my_bounds,disp=True, mutation=(0.02,1),recombination=0.9, tol=0.0001,popsize=30,updating='immediate',callback=costF)\n",
    "    t2=time.time()\n",
    "    plt.plot(my_obj)\n",
    "    print(t2-t1)\n",
    "    print(\"my_shift is: \\n\",my_shift)\n",
    "    \n",
    "    print(\"\\n\",res)\n",
    "    "
   ]
  },
  {
   "cell_type": "code",
   "execution_count": 12,
   "metadata": {
    "scrolled": true
   },
   "outputs": [
    {
     "name": "stdout",
     "output_type": "stream",
     "text": [
      "[(-600, 600), (-600, 600), (-600, 600), (-600, 600), (-600, 600), (-600, 600), (-600, 600), (-600, 600), (-600, 600), (-600, 600), (-600, 600), (-600, 600), (-600, 600), (-600, 600), (-600, 600), (-600, 600), (-600, 600), (-600, 600), (-600, 600), (-600, 600), (-600, 600), (-600, 600), (-600, 600), (-600, 600), (-600, 600), (-600, 600), (-600, 600), (-600, 600), (-600, 600), (-600, 600), (-600, 600), (-600, 600), (-600, 600), (-600, 600), (-600, 600), (-600, 600), (-600, 600), (-600, 600), (-600, 600), (-600, 600), (-600, 600), (-600, 600), (-600, 600), (-600, 600), (-600, 600), (-600, 600), (-600, 600), (-600, 600), (-600, 600), (-600, 600)]\n",
      "differential_evolution step 1: f(x)= 358.868\n",
      "differential_evolution step 2: f(x)= 88.0582\n",
      "differential_evolution step 3: f(x)= -63.8967\n",
      "differential_evolution step 4: f(x)= -75.0589\n",
      "differential_evolution step 5: f(x)= -119.686\n",
      "differential_evolution step 6: f(x)= -161.017\n",
      "differential_evolution step 7: f(x)= -161.017\n",
      "differential_evolution step 8: f(x)= -168.062\n",
      "differential_evolution step 9: f(x)= -176.623\n",
      "differential_evolution step 10: f(x)= -177.835\n",
      "differential_evolution step 11: f(x)= -178.267\n",
      "differential_evolution step 12: f(x)= -178.267\n",
      "differential_evolution step 13: f(x)= -178.883\n",
      "differential_evolution step 14: f(x)= -178.883\n",
      "differential_evolution step 15: f(x)= -178.976\n",
      "differential_evolution step 16: f(x)= -178.981\n",
      "differential_evolution step 17: f(x)= -179.096\n",
      "differential_evolution step 18: f(x)= -179.44\n",
      "differential_evolution step 19: f(x)= -179.829\n",
      "differential_evolution step 20: f(x)= -179.926\n",
      "differential_evolution step 21: f(x)= -179.975\n",
      "differential_evolution step 22: f(x)= -179.98\n",
      "27.46387219429016\n",
      "my_shift is: \n",
      " [ 568.83409536   47.60963273  250.68721537 -174.71989124  170.52098671\n",
      "   41.2526503  -407.15200695  113.80765813  240.35944559 -508.65482542\n",
      " -302.04016362 -363.46643408 -305.92157425  457.93910065  352.21221419\n",
      " -234.95577438  106.75294153  318.61551587  537.04616563  510.56970987\n",
      "  141.78713871  480.97514257  237.90825491  329.71460556  547.51712166\n",
      "  411.9923548  -579.60565385 -493.540068    570.35740376   55.60165665\n",
      " -283.65887397   48.20284811  -40.35380296 -258.78197177  116.25205369\n",
      " -502.57042187  -15.32033424  -64.4685128  -452.89305128  299.01794782\n",
      " -288.34094029 -332.71289632  575.57399851 -178.45675248 -215.41683854\n",
      " -279.4435438  -561.69688512 -226.05013007 -291.34776326 -546.33217997]\n",
      "\n",
      "      fun: -179.9999998618103\n",
      "     jac: array([ 1.96109795e-04,  1.42108547e-05,  1.98951966e-05, -5.11590770e-05,\n",
      "       -2.84217094e-06,  3.12638804e-05,  1.13686838e-05, -1.13686838e-05,\n",
      "       -3.12638804e-05, -5.68434189e-06,  0.00000000e+00,  0.00000000e+00,\n",
      "        1.13686838e-05,  3.97903932e-05, -2.55795385e-05,  1.98951966e-05,\n",
      "        1.42108547e-05,  1.13686838e-05, -1.42108547e-05, -2.84217094e-06,\n",
      "        0.00000000e+00,  1.13686838e-05, -5.68434189e-06, -5.68434189e-06,\n",
      "        2.84217094e-06, -1.98951966e-05,  1.70530257e-05, -8.52651283e-06,\n",
      "        5.68434189e-06, -1.13686838e-05,  5.68434189e-06,  0.00000000e+00,\n",
      "        0.00000000e+00,  0.00000000e+00,  1.98951966e-05, -2.84217094e-06,\n",
      "        1.42108547e-05,  5.68434189e-06,  2.84217094e-06, -5.68434189e-06,\n",
      "        5.68434189e-06,  2.84217094e-06,  8.52651283e-06, -5.68434189e-06,\n",
      "        1.70530257e-05, -2.84217094e-06, -2.84217094e-06, -2.27373675e-05,\n",
      "        1.13686838e-05, -3.12638804e-05])\n",
      " message: 'Optimization terminated successfully.'\n",
      "    nfev: 35418\n",
      "     nit: 22\n",
      " success: True\n",
      "       x: array([ 568.83429143,   47.60966471,  250.68727616, -174.72009153,\n",
      "        170.52098288,   41.25285109, -407.15191716,  113.80757778,\n",
      "        240.35917726, -508.65486252, -302.04015638, -363.46643184,\n",
      "       -305.92140639,  457.9396493 ,  352.21183834, -234.95541945,\n",
      "        106.75319375,  318.61573441,  537.04589482,  510.56966203,\n",
      "        141.7871452 ,  480.97543766,  237.90813182,  329.71449967,\n",
      "        547.51722147,  411.99189072, -579.60515191, -493.54027661,\n",
      "        570.35760254,   55.60134608, -283.65869941,   48.20288216,\n",
      "        -40.35374593, -258.78197697,  116.25281311, -502.57048332,\n",
      "        -15.31978574,  -64.46828676, -452.89288833,  299.01772379,\n",
      "       -288.34068636, -332.71276378,  575.57441902, -178.45690146,\n",
      "       -215.41601643, -279.44357762, -561.69699539, -226.05109564,\n",
      "       -291.34710862, -546.33369443])\n"
     ]
    },
    {
     "data": {
      "image/png": "[encoded data removed]",
      "text/plain": [
       "<Figure size 432x288 with 1 Axes>"
      ]
     },
     "metadata": {
      "needs_background": "light"
     },
     "output_type": "display_data"
    }
   ],
   "source": [
    "problem(50,objective_F5,-600,600)"
   ]
  },
  {
   "cell_type": "code",
   "execution_count": null,
   "metadata": {},
   "outputs": [],
   "source": []
  }
 ],
 "metadata": {
  "kernelspec": {
   "display_name": "Python 3",
   "language": "python",
   "name": "python3"
  },
  "language_info": {
   "codemirror_mode": {
    "name": "ipython",
    "version": 3
   },
   "file_extension": ".py",
   "mimetype": "text/x-python",
   "name": "python",
   "nbconvert_exporter": "python",
   "pygments_lexer": "ipython3",
   "version": "3.6.10"
  }
 },
 "nbformat": 4,
 "nbformat_minor": 2
}
