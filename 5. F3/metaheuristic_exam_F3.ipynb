{
 "cells": [
  {
   "cell_type": "markdown",
   "metadata": {},
   "source": [
    "### METAHEURISTICS EXAM DSTI A19\n",
    "#### Jean MILPIED\n",
    "#### date: May 26\n",
    "\n",
    "### F3: Shifted Rosenbrock’s Function"
   ]
  },
  {
   "cell_type": "markdown",
   "metadata": {},
   "source": [
    "The shifted Rosenbrock function is:  \n",
    "sum for i = 1 to D-1 of 100*((z[i])^2 - z[i+1])^2 + bias, where z=x-O+1, x of D dimension and where O is the shift of dimension D"
   ]
  },
  {
   "cell_type": "code",
   "execution_count": 16,
   "metadata": {},
   "outputs": [],
   "source": [
    "import scipy\n",
    "import numpy as np\n",
    "from scipy.optimize import minimize\n",
    "import matplotlib.pyplot as plt\n",
    "from random import uniform\n",
    "import math\n",
    "import time\n"
   ]
  },
  {
   "cell_type": "code",
   "execution_count": 53,
   "metadata": {},
   "outputs": [],
   "source": [
    "#objective function\n",
    "\n",
    "def objective_F3(my_x):\n",
    "    my_z=my_x-my_shift+1\n",
    "    my_z_square=np.square(my_z)[:-1]\n",
    "    my_z_plusone=my_z[1:]\n",
    "    my_J=np.sum(100*np.square((my_z_square-my_z_plusone)))+390 #bias is +390\n",
    "    return my_J"
   ]
  },
  {
   "cell_type": "code",
   "execution_count": 54,
   "metadata": {},
   "outputs": [],
   "source": [
    "#initialize function\n",
    "\n",
    "def initialize_my_X (D,range_min, range_max):\n",
    "    my_X_init=np.random.uniform(low=range_min, high=range_max, size=D)\n",
    "    return my_X_init"
   ]
  },
  {
   "cell_type": "code",
   "execution_count": 55,
   "metadata": {},
   "outputs": [],
   "source": [
    "\n",
    "global my_obj #we create a global variable to consolidate the evolution of the objective function\n",
    "#call-back function for the optimizer\n",
    "\n",
    "def costF(Xi):\n",
    "    my_obj.append(objective_F3(Xi))"
   ]
  },
  {
   "cell_type": "code",
   "execution_count": 56,
   "metadata": {},
   "outputs": [],
   "source": [
    "my_obj=[]\n",
    "\n",
    "\n",
    "\n",
    "def problem(my_size, my_func,my_bound_min,my_bound_max):\n",
    "    global my_shift\n",
    "    my_X0_2=initialize_my_X(my_size,my_bound_min,my_bound_max)\n",
    "    my_shift=initialize_my_X(my_size,my_bound_min,my_bound_max) #we initialize the shift at random (this can be changed)\n",
    "    t1=time.time()\n",
    "    res = minimize(my_func, my_X0_2,bounds=(my_bound_min,my_bound_max),method='BFGS',tol=1e-6,options={'gtol': 1e-6, 'maxiter':10000,'disp': True}, callback=costF)\n",
    "    t2=time.time()\n",
    "    plt.plot(np.array(my_obj)-390) #we plot fitness = evaluation of obj minus minimum = bias\n",
    "    plt.xlabel(\"iterations\")\n",
    "    plt.ylabel(\"fitness\")\n",
    "    print(\"total computational time is \",np.round(t2-t1,4),\"  seconds\")\n",
    "    print(\"optimization results are :\", res.x)\n",
    "    "
   ]
  },
  {
   "cell_type": "code",
   "execution_count": 57,
   "metadata": {
    "scrolled": false
   },
   "outputs": [
    {
     "name": "stderr",
     "output_type": "stream",
     "text": [
      "C:\\Users\\jeanm\\Anaconda3\\envs\\test\\lib\\site-packages\\scipy\\optimize\\_minimize.py:522: RuntimeWarning: Method BFGS cannot handle constraints nor bounds.\n",
      "  RuntimeWarning)\n"
     ]
    },
    {
     "name": "stdout",
     "output_type": "stream",
     "text": [
      "Optimization terminated successfully.\n",
      "         Current function value: 390.000000\n",
      "         Iterations: 1071\n",
      "         Function evaluations: 58344\n",
      "         Gradient evaluations: 1122\n",
      "total computational time is  1.1243   seconds\n",
      "optimization results are : [-65.11948769 -69.24982817 -87.07854171  58.18401267 -62.72771549\n",
      "  50.05711369  17.75084924 -99.60353408  -2.18121201 -28.49409513\n",
      " -97.86021749  98.93252725  67.13591217 -43.89503247 -52.29240996\n",
      "  -6.93113071  90.93043657  53.23095932  65.99721765  94.80320888\n",
      " -62.04754064 -71.83424184  97.75417154  31.0358128   13.23146254\n",
      "  87.08304241 -87.79164602  71.62669251 -11.90611593 -46.10633722\n",
      "  94.71188073 -41.17824529  33.61597763  48.43903301 -89.68113813\n",
      "  85.14115375  -5.87774943   6.78268429  49.42346736  72.00291974\n",
      "  59.86340769  17.94173264  -4.03238164   1.05413553 -37.94107547\n",
      "  56.49145558  84.57817358 -26.45350289 -39.87329885 -46.70843093]\n"
     ]
    },
    {
     "data": {
      "image/png": "[encoded data removed]",
      "text/plain": [
       "<Figure size 432x288 with 1 Axes>"
      ]
     },
     "metadata": {
      "needs_background": "light"
     },
     "output_type": "display_data"
    }
   ],
   "source": [
    "#for dim D =50\n",
    "problem(50,objective_F3,-100,100)"
   ]
  },
  {
   "cell_type": "code",
   "execution_count": 58,
   "metadata": {},
   "outputs": [
    {
     "name": "stdout",
     "output_type": "stream",
     "text": [
      "Warning: Desired error not necessarily achieved due to precision loss.\n",
      "         Current function value: 537.254233\n",
      "         Iterations: 2098\n",
      "         Function evaluations: 1197784\n",
      "         Gradient evaluations: 2386\n",
      "total computational time is  57.4708   seconds\n",
      "optimization results are : [ 1.32544461e+01 -2.26934745e+01 -4.41470975e+01  4.03274180e+01\n",
      " -9.95107934e+01  9.44016895e+01  8.92518982e+01  2.73511860e+00\n",
      " -9.36757835e+01  2.33442483e+01  9.41060274e+01 -3.40103679e+01\n",
      " -9.36030090e+01  5.93838027e+01 -7.61076789e+01 -7.68467339e+01\n",
      " -7.65491839e+01 -1.83096005e+01  7.37843241e+01  1.09078168e+01\n",
      " -7.60553406e+01  3.05183973e+01  6.64460844e+01  7.30776460e+01\n",
      " -1.00289997e+02 -8.24738989e+01  9.44273262e+01 -8.64931318e+01\n",
      " -2.26808499e+01  5.15758060e+01  4.00426940e+01 -5.59098955e+01\n",
      "  8.12790855e+01 -8.06460106e+01 -4.24520486e+01 -1.79775857e+01\n",
      " -2.21705625e+01  3.54094940e+01 -9.42963492e+01 -2.71297247e+01\n",
      " -4.56003567e+01 -1.24204747e+01  3.36283374e+01  7.60509593e+00\n",
      " -1.72809502e+01  2.01634949e+01  6.93033358e+01  1.80597126e+01\n",
      "  6.52422313e+01  1.68181403e+00 -9.28455975e+01  4.61392764e+01\n",
      " -6.29137970e+01  8.37163241e+01 -8.38313352e+01  5.60406355e+01\n",
      "  3.12149177e+01 -7.92847253e+01 -2.24168606e+01 -1.52691934e+01\n",
      "  5.32790785e+01  4.99518371e+01  3.20118255e+01 -1.50812933e+01\n",
      " -1.96280220e+01 -8.67543346e+01  9.77059065e+01  4.01803894e+01\n",
      " -5.04837100e+01  4.92429312e+01 -9.58932786e+01  3.97412355e+01\n",
      " -4.50203311e+01 -2.74419586e+01  2.00395715e+01  8.95634716e+01\n",
      "  1.19071357e+01 -2.16666583e+01 -8.56604835e+00  7.86088628e+00\n",
      "  7.94073647e+00  9.80847791e+01 -9.59007067e+01  6.60664198e+01\n",
      "  3.44279845e-01  1.40354932e+01 -4.35004481e+01  2.13190866e+01\n",
      "  4.03377193e+01 -1.08242699e+00 -6.92559920e+01 -5.48610851e+01\n",
      "  1.53279564e+01  1.07073722e+01  5.74128963e+01  6.86786615e+01\n",
      " -2.00691987e+01  8.25857689e+01 -5.20938347e+01  3.45337204e+01\n",
      "  3.13754778e+01  4.68364085e+01  8.72951232e+01 -8.99001820e+01\n",
      "  3.54103250e+01  5.28624263e+01  6.46654930e+01  1.69355235e+01\n",
      " -6.08804095e+01 -3.49401575e+01  5.04275344e+01 -4.47709077e+01\n",
      " -4.36745061e+01  7.68462689e+01 -6.54378640e+01  2.30174269e+00\n",
      " -7.14392284e+00  8.72204544e+01  4.22831571e+01 -9.83073498e+01\n",
      " -2.96245504e+01 -6.49285695e+01  3.27117993e+01  1.13838928e+01\n",
      "  3.83557731e+01 -8.86633784e+01 -7.10557596e+01  7.75597883e+01\n",
      " -3.50932650e+01 -3.64165596e+01 -9.50884377e+01  7.54086138e+01\n",
      " -3.94811692e+00 -1.59340936e+01 -3.08965396e-01 -1.95337097e+01\n",
      " -6.27289325e+01 -4.95646037e+01  6.45061730e+01  5.91453172e+01\n",
      " -6.02208883e+01  8.41733558e+01  2.31233194e+01 -5.62591899e+01\n",
      " -3.29112382e+01  2.70846871e+01  8.95473441e+01  6.24176528e+00\n",
      "  1.90860006e+00 -6.27923622e+01  6.46719164e+01  1.46101177e+01\n",
      "  9.18049529e+01 -8.83940016e+01  5.13209135e+01  7.79934137e+01\n",
      " -6.38629049e+01  1.08505001e+01  8.27246004e+01  9.17140194e+01\n",
      " -8.39842335e+01  4.38736380e+01  3.60511208e+01  8.35204384e+01\n",
      " -2.64215219e+01 -4.60300012e+01 -4.34847189e+01  8.03778792e+01\n",
      " -2.80688354e+01  4.13400657e+01  4.63941723e+01  4.69211094e+01\n",
      "  9.11796121e+01 -2.86559373e+01  4.44835302e+01  1.03410197e+01\n",
      "  8.21253677e+01 -3.08764826e+01  3.24306253e+01 -3.70652409e+01\n",
      " -3.94400278e+01  2.36632685e+00  5.48078517e+01  8.18843861e+01\n",
      "  1.89531260e+00 -8.78643987e+00  6.96153417e+01  3.10538638e+01\n",
      " -3.80264046e+01  3.90609243e+01 -1.38502772e+01 -9.86287418e+01\n",
      "  1.07640782e+01 -2.94244781e+00 -2.94749160e+01 -3.96110684e+01\n",
      "  4.05762937e+00 -9.86455958e+01 -9.98094642e+01 -9.11492674e+01\n",
      "  9.83570833e+01 -2.52828500e+01  8.26925715e+01  9.72623019e+01\n",
      "  2.29799869e+01 -4.15490620e+01  4.56833632e+01  4.29451750e+01\n",
      "  7.26642830e+01 -2.29102032e+01  4.93200890e+01 -7.13826517e+01\n",
      " -2.55122717e+01 -6.13856516e+01  6.18644289e+00 -1.29209763e+01\n",
      "  2.72492955e+01  6.82313647e+01  2.60194107e+01 -4.36448357e+01\n",
      " -8.09951262e+01  8.23761971e+01 -7.26628353e+00  1.54487046e+01\n",
      "  4.65195281e+01 -3.11649030e+01  5.39071787e+01  5.70818832e+01\n",
      " -7.69784872e+01 -7.04359985e+01 -1.85152156e+01  8.55695302e+01\n",
      "  6.98281380e+01 -2.38192431e+01  6.18443320e+01 -5.04122789e+00\n",
      " -2.10373393e+01  6.94638559e+01 -5.57015029e+01 -4.57833133e+01\n",
      " -3.80628187e+01  1.30355156e+01 -6.40390762e+01  4.73540947e+01\n",
      "  6.79873128e+01  7.85900924e+01 -1.00958583e+02  7.49088773e+01\n",
      " -9.98278169e+01  7.08981856e+01 -3.16220236e+01  1.40076208e+01\n",
      " -4.99209907e+01 -4.52250944e+00  8.35760384e+01 -4.33626685e+01\n",
      "  5.65153328e+01 -9.15894550e+01 -7.52188022e+01 -8.52931569e+01\n",
      "  3.82577871e+01  5.44303155e+01  7.86075898e+01  3.03535069e+01\n",
      "  6.02087658e+01 -2.47438904e+01 -2.67413231e+01  7.83284014e+01\n",
      " -6.85181410e+01 -6.76704795e+01  7.88569574e+01 -3.06838806e-01\n",
      "  6.58225636e+01  5.33727479e+01  6.41391815e+01 -3.11016664e+01\n",
      " -8.01279151e+01  6.24976141e+01 -3.34764278e+01 -9.33972610e+01\n",
      " -7.69871829e+01  3.80963566e+01  9.82514489e+01  5.03996256e+01\n",
      "  8.00351787e+01  9.72791333e+01  3.60616484e+01  9.79205105e+01\n",
      " -4.17559097e+01  6.41401107e+01  9.32515128e+01 -6.39118677e+01\n",
      "  2.51241078e+01  5.76867290e+01 -8.64591540e+00  3.97119980e+01\n",
      " -7.56499640e+01 -3.51137176e+00  4.40099971e+01  6.77209407e+01\n",
      " -8.05700461e+01 -4.68876905e+01  6.49766282e+01 -8.67991057e+01\n",
      " -1.00987345e+02 -8.58787936e+01 -9.58768301e+01  9.26137887e+01\n",
      " -3.45279578e+01  1.14273938e+01 -2.12739853e+01 -8.62189720e+01\n",
      " -8.24131027e+01  4.42724569e+01  4.30130742e+01  5.63257836e+01\n",
      " -7.07790300e+01 -8.57739407e+01 -2.44122435e+01  4.23993127e+01\n",
      "  9.58521012e+01  1.18799612e+00 -3.69088664e+01 -5.98518125e+01\n",
      "  9.79381627e+01  8.61939533e+01 -7.83079531e+01  7.98709620e+01\n",
      " -1.92916278e+01 -1.01647896e+01 -4.79388575e+01  2.63313595e+01\n",
      "  5.20255546e+01 -3.07041334e+01 -4.48990738e+01 -8.39527966e+01\n",
      "  4.18720480e+01 -5.93804600e+01  4.56371136e+01 -7.01753031e+01\n",
      "  5.42242767e+01 -3.91691645e+01  9.40873657e+00 -1.46196259e+01\n",
      " -5.62613497e+01  7.44700584e+01  3.06174083e+00  1.35921320e+01\n",
      " -8.28580743e+01  7.23086954e+01 -4.10945566e+01  5.64948427e+01\n",
      " -2.47024413e+01 -5.34964702e+01  1.24311603e+01 -1.77486295e+01\n",
      "  1.04279853e+01 -7.01803376e+01 -8.57937118e+01 -6.66176594e+01\n",
      " -2.70266255e+01 -5.45599183e+01  8.31506261e+01 -8.16853823e+01\n",
      "  8.32745232e+01  6.95451862e+01 -9.44639304e+01 -8.12364481e+01\n",
      " -2.42715985e+00  1.95235113e+01  4.94768984e+01  6.84251301e+01\n",
      " -6.99110314e+01 -4.11723802e+01 -5.23304275e+01  4.91949648e+01\n",
      " -1.57066387e+01 -3.25231272e+01  4.25899010e+01  8.51031657e+00\n",
      " -7.08105359e-01  6.50148223e+01  6.42038698e+00 -5.25413257e+01\n",
      "  7.63614097e+01 -9.69619834e+01  7.17653706e+01 -3.44237380e+01\n",
      "  6.66908704e+01 -8.58258658e+01  5.17205160e+01  6.52118194e+01\n",
      "  4.19256290e+01  5.90142816e+01  2.90100555e+01 -1.70699168e+01\n",
      " -1.35772014e+01  5.44315164e+01 -6.87894681e+01 -3.72389830e+01\n",
      "  4.50785992e+00 -3.37738025e+01 -7.03568822e+01 -2.44372214e+01\n",
      "  9.62601711e+01  3.82191106e+01 -3.01392588e+01  2.51900839e+01\n",
      " -8.79896728e+01 -7.39712003e+01 -2.78532615e+01  2.52593447e+01\n",
      " -4.06229865e+01  3.19095872e+01  4.19424910e+01  8.51851486e+01\n",
      " -2.63722621e+01 -7.34670511e+01 -2.31587719e+01 -3.71465801e+01\n",
      " -2.38115095e+01  3.08567452e+01  2.09465573e+01 -6.31789943e+01\n",
      " -9.42709493e+01 -9.93693048e+01  8.15039032e+00 -1.19938228e+01\n",
      " -2.52018106e+01 -8.94845079e+01  6.38930259e+01  6.66680251e+01\n",
      " -8.68117602e+00 -9.70874821e+00  5.79783598e+01 -6.40055976e+00\n",
      "  4.91911000e+01  1.63580939e+01  8.87884467e+01  5.87770246e+01\n",
      " -3.49383005e+01 -8.98469173e+01  1.28351241e+01  8.23909694e+01\n",
      " -9.95123382e+01  5.03883016e+00  3.74925467e+00  3.42853232e+01\n",
      " -5.01771151e+01  1.63352879e+01  1.77895843e+01 -2.72067996e+01\n",
      " -1.35443270e+01  5.24136699e+01  8.24070752e+01  8.53916505e+01\n",
      "  3.03830279e+01 -9.39978045e+01 -6.98308881e+01  8.07491491e+01\n",
      "  7.26000209e+01  5.79259797e+00  7.80080952e+01  1.25479467e+01\n",
      " -2.34898739e+00  5.02485740e+01 -4.22942447e+01  6.83440274e+00\n",
      " -2.98833805e+01 -6.01256665e+01 -7.92263879e+01  5.56797113e+00\n",
      "  8.02102953e+01  5.92991348e+00  8.08235689e+01  2.20928610e+01\n",
      " -1.11954906e+01  2.50386568e+01 -3.07079026e+01  5.93479885e+01\n",
      " -1.02617332e+01 -9.97434621e+01  8.70256680e+01 -1.17157651e+01\n",
      " -9.59077540e+01 -9.53538586e+00  7.46771122e+01 -1.50902559e+00\n",
      "  5.02762785e+01  5.30725789e+01 -9.70720754e+00 -4.07305731e+01\n",
      " -6.90493582e+01  9.64859213e+01  4.41598656e+01  3.80201562e+01\n",
      " -7.37629640e+01  5.67177563e+00  6.47021793e+00  7.31744042e+03]\n"
     ]
    },
    {
     "data": {
      "image/png": "[encoded data removed]",
      "text/plain": [
       "<Figure size 432x288 with 1 Axes>"
      ]
     },
     "metadata": {
      "needs_background": "light"
     },
     "output_type": "display_data"
    }
   ],
   "source": [
    "#for dim D= 500\n",
    "problem(500,objective_F3,-100,100)"
   ]
  },
  {
   "cell_type": "code",
   "execution_count": null,
   "metadata": {},
   "outputs": [],
   "source": []
  }
 ],
 "metadata": {
  "kernelspec": {
   "display_name": "Python 3",
   "language": "python",
   "name": "python3"
  },
  "language_info": {
   "codemirror_mode": {
    "name": "ipython",
    "version": 3
   },
   "file_extension": ".py",
   "mimetype": "text/x-python",
   "name": "python",
   "nbconvert_exporter": "python",
   "pygments_lexer": "ipython3",
   "version": "3.6.10"
  }
 },
 "nbformat": 4,
 "nbformat_minor": 2
}
