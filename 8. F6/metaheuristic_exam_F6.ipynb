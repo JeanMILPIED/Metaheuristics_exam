{
 "cells": [
  {
   "cell_type": "markdown",
   "metadata": {},
   "source": [
    "### METAHEURISTICS EXAM DSTI A19\n",
    "#### Jean MILPIED\n",
    "#### date: May 26\n",
    "\n",
    "### F6 : Shifted Ackley’s Function "
   ]
  },
  {
   "cell_type": "markdown",
   "metadata": {},
   "source": [
    "The shifted Ackley's function is:  \n",
    "-20 * exp(-0.2*sqrt(1/D * sum for i = 1 to D of z[i]**2)) -exp(1/D * sum for i = 1 to D of cos(2*pi*z[i])) + 20 + e + bias\n",
    ", where z=x-O, x of D dimension and where O is the shift of dimension D  \n",
    "x belongs [-32,32] f_bias= -140"
   ]
  },
  {
   "cell_type": "code",
   "execution_count": 1,
   "metadata": {},
   "outputs": [],
   "source": [
    "import scipy\n",
    "import numpy as np\n",
    "from scipy.optimize import minimize\n",
    "import matplotlib.pyplot as plt\n",
    "from random import uniform\n",
    "import math\n",
    "import time\n",
    "from scipy.optimize import rosen, differential_evolution"
   ]
  },
  {
   "cell_type": "code",
   "execution_count": 2,
   "metadata": {},
   "outputs": [],
   "source": [
    "#objective function\n",
    "def objective_F6(my_x):\n",
    "    my_D=my_x.size\n",
    "    my_z=my_x-my_shift\n",
    "    my_z_square=np.square(my_z)\n",
    "    my_first_term=-20*np.exp(-0.2*np.sqrt(sum(my_z_square)/my_D))\n",
    "    my_z_costerm=np.cos(2*np.pi*my_z)\n",
    "    my_second_term=-1*np.exp(1/my_D*sum(my_z_costerm))\n",
    "    my_J=my_first_term+my_second_term+20+np.e-140 #bias is -140\n",
    "    return my_J"
   ]
  },
  {
   "cell_type": "code",
   "execution_count": 3,
   "metadata": {},
   "outputs": [],
   "source": [
    "#initialize function\n",
    "def initialize_my_X (D,range_min, range_max):\n",
    "    my_X_init=np.random.uniform(low=range_min, high=range_max, size=D)\n",
    "    return my_X_init"
   ]
  },
  {
   "cell_type": "code",
   "execution_count": 4,
   "metadata": {},
   "outputs": [],
   "source": [
    "global my_obj #we create a global variable to consolidate the evolution of the objective function\n",
    "#call-back function for the optimizer\n",
    "def costF(Xi,convergence):\n",
    "    my_X=Xi\n",
    "    my_obj.append(objective_F6(Xi))"
   ]
  },
  {
   "cell_type": "code",
   "execution_count": 5,
   "metadata": {},
   "outputs": [],
   "source": [
    "my_obj=[]\n",
    "\n",
    "def problem(my_size, my_func,my_bound_min,my_bound_max):\n",
    "    global my_shift\n",
    "    #my_X0_2=initialize_my_X(my_size,my_bound_min,my_bound_max)\n",
    "    my_bounds=[(my_bound_min,my_bound_max) for i in range(my_size)]\n",
    "    #print(my_bounds)\n",
    "    my_shift=initialize_my_X(my_size,my_bound_min,my_bound_max) #we initialize the shift at random (this can be changed)\n",
    "    t1=time.time()\n",
    "    res = differential_evolution(my_func, my_bounds,disp=True, mutation=(0.02,1),recombination=0.9, tol=0.0001,popsize=30,updating='immediate',callback=costF)\n",
    "    t2=time.time()\n",
    "    plt.plot(my_obj)\n",
    "    print(t2-t1)\n",
    "    print(\"my_shift is: \\n\",my_shift)\n",
    "    print(\"\\n\",res)\n",
    "    "
   ]
  },
  {
   "cell_type": "code",
   "execution_count": 6,
   "metadata": {
    "scrolled": true
   },
   "outputs": [
    {
     "name": "stdout",
     "output_type": "stream",
     "text": [
      "differential_evolution step 1: f(x)= -119.067\n",
      "differential_evolution step 2: f(x)= -119.067\n",
      "differential_evolution step 3: f(x)= -119.181\n",
      "differential_evolution step 4: f(x)= -119.616\n",
      "differential_evolution step 5: f(x)= -122.987\n",
      "differential_evolution step 6: f(x)= -123.296\n",
      "differential_evolution step 7: f(x)= -123.296\n",
      "differential_evolution step 8: f(x)= -128.022\n",
      "differential_evolution step 9: f(x)= -131.399\n",
      "differential_evolution step 10: f(x)= -131.399\n",
      "differential_evolution step 11: f(x)= -131.638\n",
      "differential_evolution step 12: f(x)= -132.159\n",
      "differential_evolution step 13: f(x)= -134.525\n",
      "differential_evolution step 14: f(x)= -134.809\n",
      "differential_evolution step 15: f(x)= -136.623\n",
      "differential_evolution step 16: f(x)= -137.628\n",
      "differential_evolution step 17: f(x)= -137.917\n",
      "differential_evolution step 18: f(x)= -137.943\n",
      "differential_evolution step 19: f(x)= -137.951\n",
      "differential_evolution step 20: f(x)= -138.601\n",
      "differential_evolution step 21: f(x)= -138.601\n",
      "differential_evolution step 22: f(x)= -138.602\n",
      "differential_evolution step 23: f(x)= -138.606\n",
      "differential_evolution step 24: f(x)= -138.693\n",
      "differential_evolution step 25: f(x)= -138.714\n",
      "differential_evolution step 26: f(x)= -138.714\n",
      "12.811126470565796\n",
      "my_shift is: \n",
      " [ 17.32509473  -0.90109756  -0.84718572 -27.50064555  -9.48193163\n",
      " -23.49808609 -25.85677953   8.37029056  15.76126086  11.31737932\n",
      " -15.99421791  14.6161756  -22.35842605 -25.67382912   8.50010567\n",
      " -21.427094    28.98042399  27.5681678   -3.91558055 -31.61009743\n",
      " -29.13749098  -3.0433332  -15.32115606  -7.35488479 -23.00404564\n",
      " -27.66933964   4.14497763 -25.62983627 -20.44676308 -13.05853381\n",
      " -11.08921138  11.73108502 -20.30858227  19.34786313  15.84005903\n",
      "  20.3654803   16.79273062  30.60033788   0.71065236  30.24210667\n",
      "  28.62210031 -30.3842726   10.27821835  13.00881898 -14.77467613\n",
      "  31.81937365  -4.10924884 -10.08122119  -0.87398529  16.71964982]\n",
      "\n",
      "      fun: -138.73025235093172\n",
      "     jac: array([ 5.68434189e-06,  5.68434189e-06,  8.52651283e-06,  8.52651283e-06,\n",
      "        8.52651283e-06,  2.84217094e-06,  5.68434189e-06, -2.84217094e-06,\n",
      "       -1.13686838e-05,  2.84217094e-06, -1.13686838e-05,  5.68434189e-06,\n",
      "       -8.52651283e-06,  2.84217094e-06,  0.00000000e+00,  0.00000000e+00,\n",
      "        4.83169060e-05,  2.27373675e-05,  5.68434189e-06,  2.84217094e-06,\n",
      "       -2.84217094e-06,  0.00000000e+00, -8.52651283e-06, -5.68434189e-06,\n",
      "       -5.68434189e-06,  2.84217094e-06,  0.00000000e+00, -5.68434189e-06,\n",
      "       -5.68434189e-06,  5.68434189e-06,  8.52651283e-06,  5.68434189e-06,\n",
      "        5.68434189e-06, -8.52651283e-06, -2.84217094e-06,  2.84217094e-06,\n",
      "       -5.68434189e-06,  0.00000000e+00, -1.42108547e-05,  5.68434189e-06,\n",
      "        2.84217094e-06, -8.52651283e-06,  2.84217094e-06, -8.52651283e-06,\n",
      "        8.52651283e-06,  0.00000000e+00, -8.52651283e-06, -2.84217094e-06,\n",
      "       -8.52651283e-06,  5.68434189e-06])\n",
      " message: 'Optimization terminated successfully.'\n",
      "    nfev: 40806\n",
      "     nit: 26\n",
      " success: True\n",
      "       x: array([ 17.32509753,  -0.90109467,  -0.84718189, -27.50064129,\n",
      "        -9.48192758, -23.49808401, -25.85677631,   8.37028978,\n",
      "        15.76125652,  11.31738059, -15.99422207,  14.61617875,\n",
      "       -22.3584293 , -25.67382828,   8.50010552, -21.42709347,\n",
      "        28.980445  ,  27.56817795,  -3.91557834, -31.61009634,\n",
      "       -29.13749143,  -3.04333341, -15.32115944,  -7.35488674,\n",
      "       -23.00404784, -27.66933791,   3.25858194, -25.62983844,\n",
      "       -19.56037064, -13.05853123, -11.08920696,  11.73108785,\n",
      "       -20.30857921,  19.34786011,  16.72645305,  20.36548243,\n",
      "        16.79272857,  29.7139416 ,   0.71064674,  30.24211   ,\n",
      "        28.62210117, -30.38427609,  10.2782205 ,  13.00881537,\n",
      "       -14.77467276,  30.93297801,  -4.10925215,  -9.19482624,\n",
      "        -0.87398908,  16.71965227])\n"
     ]
    },
    {
     "data": {
      "image/png": "[encoded data removed]",
      "text/plain": [
       "<Figure size 432x288 with 1 Axes>"
      ]
     },
     "metadata": {
      "needs_background": "light"
     },
     "output_type": "display_data"
    }
   ],
   "source": [
    "problem(50,objective_F6,-32,32)"
   ]
  },
  {
   "cell_type": "code",
   "execution_count": null,
   "metadata": {},
   "outputs": [],
   "source": []
  }
 ],
 "metadata": {
  "kernelspec": {
   "display_name": "Python 3",
   "language": "python",
   "name": "python3"
  },
  "language_info": {
   "codemirror_mode": {
    "name": "ipython",
    "version": 3
   },
   "file_extension": ".py",
   "mimetype": "text/x-python",
   "name": "python",
   "nbconvert_exporter": "python",
   "pygments_lexer": "ipython3",
   "version": "3.6.10"
  }
 },
 "nbformat": 4,
 "nbformat_minor": 2
}
