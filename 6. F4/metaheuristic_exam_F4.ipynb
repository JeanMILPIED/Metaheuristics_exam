{
 "cells": [
  {
   "cell_type": "markdown",
   "metadata": {},
   "source": [
    "### METAHEURISTICS EXAM DSTI A19\n",
    "#### Jean MILPIED\n",
    "#### date: May 26\n",
    "\n",
    "### F4 : Shifted Rastrigin’s Function"
   ]
  },
  {
   "cell_type": "markdown",
   "metadata": {},
   "source": [
    "The shifted Rastrigin's function is:  \n",
    "sum for i = 1 to D of ((z[i])^2 - 10*cos(2*pi *z[i]) + 10 ) + bias, where z=x-O, x of D dimension and where O is the shift of dimension D  \n",
    "x belongs [-5,5] f_bias= - 330"
   ]
  },
  {
   "cell_type": "code",
   "execution_count": 1,
   "metadata": {},
   "outputs": [],
   "source": [
    "import scipy\n",
    "import numpy as np\n",
    "from scipy.optimize import minimize\n",
    "import matplotlib.pyplot as plt\n",
    "from random import uniform\n",
    "import math\n",
    "import time\n",
    "from scipy.optimize import rosen, differential_evolution"
   ]
  },
  {
   "cell_type": "code",
   "execution_count": 2,
   "metadata": {},
   "outputs": [],
   "source": [
    "#objective function\n",
    "def objective_F4(my_x):\n",
    "    my_z=my_x-my_shift\n",
    "    my_z_square=np.square(my_z)\n",
    "    my_z_costerm=np.cos(2*np.pi*my_z)\n",
    "    my_J=sum(my_z_square-10*my_z_costerm+10)-330 #bias is -330\n",
    "    return my_J"
   ]
  },
  {
   "cell_type": "code",
   "execution_count": 3,
   "metadata": {},
   "outputs": [],
   "source": [
    "#initialize function\n",
    "def initialize_my_X (D,range_min, range_max):\n",
    "    my_X_init=np.random.uniform(low=range_min, high=range_max, size=D)\n",
    "    return my_X_init"
   ]
  },
  {
   "cell_type": "code",
   "execution_count": 4,
   "metadata": {},
   "outputs": [],
   "source": [
    "global my_obj #we create a global variable to consolidate the evolution of the objective function\n",
    "#call-back function for the optimizer\n",
    "def costF(Xi,convergence):\n",
    "    my_X=Xi\n",
    "    my_obj.append(objective_F4(Xi))"
   ]
  },
  {
   "cell_type": "code",
   "execution_count": 5,
   "metadata": {},
   "outputs": [],
   "source": [
    "def problem(my_size, my_func,my_bound_min,my_bound_max):\n",
    "\n",
    "    global my_shift\n",
    "    global my_obj\n",
    "    my_obj=[]\n",
    "    #my_X0_2=initialize_my_X(my_size,my_bound_min,my_bound_max)\n",
    "    my_bounds=[(my_bound_min,my_bound_max) for i in range(my_size)]\n",
    "    my_shift=initialize_my_X(my_size,my_bound_min,my_bound_max) #we initialize the shift at random (this can be changed)\n",
    "    t1=time.time()\n",
    "    res = differential_evolution(my_func, my_bounds,disp=True, mutation=(0.02,1),recombination=0.9, tol=0.0001,maxiter=3000,popsize=30,updating='immediate',callback=costF)\n",
    "    t2=time.time()\n",
    "    plt.plot(np.array(my_obj)+330) #we plot fitness = evaluation of obj minus minimum = bias\n",
    "    plt.xlabel(\"iterations\")\n",
    "    plt.ylabel(\"fitness\")\n",
    "    print(\"total computational time is \",np.round(t2-t1,4),\"  seconds\")\n",
    "    print(\"optimization results are :\", res.x)\n",
    "    print(\"\\n\",res)\n",
    "    "
   ]
  },
  {
   "cell_type": "code",
   "execution_count": 6,
   "metadata": {
    "scrolled": false
   },
   "outputs": [
    {
     "name": "stdout",
     "output_type": "stream",
     "text": [
      "differential_evolution step 1: f(x)= 409.8\n",
      "differential_evolution step 2: f(x)= 409.8\n",
      "differential_evolution step 3: f(x)= 351.452\n",
      "differential_evolution step 4: f(x)= 224.591\n",
      "differential_evolution step 5: f(x)= 95.8136\n",
      "differential_evolution step 6: f(x)= 95.8136\n",
      "differential_evolution step 7: f(x)= 95.8136\n",
      "differential_evolution step 8: f(x)= 79.281\n",
      "differential_evolution step 9: f(x)= -14.5308\n",
      "differential_evolution step 10: f(x)= -14.5308\n",
      "differential_evolution step 11: f(x)= -14.5308\n",
      "differential_evolution step 12: f(x)= -14.5308\n",
      "differential_evolution step 13: f(x)= -48.003\n",
      "differential_evolution step 14: f(x)= -57.9325\n",
      "differential_evolution step 15: f(x)= -93.7232\n",
      "differential_evolution step 16: f(x)= -93.7232\n",
      "differential_evolution step 17: f(x)= -97.1087\n",
      "differential_evolution step 18: f(x)= -97.1087\n",
      "differential_evolution step 19: f(x)= -129.267\n",
      "differential_evolution step 20: f(x)= -136.634\n",
      "differential_evolution step 21: f(x)= -136.746\n",
      "differential_evolution step 22: f(x)= -136.981\n",
      "differential_evolution step 23: f(x)= -137.044\n",
      "differential_evolution step 24: f(x)= -141.089\n",
      "differential_evolution step 25: f(x)= -141.089\n",
      "differential_evolution step 26: f(x)= -142.141\n",
      "differential_evolution step 27: f(x)= -142.981\n",
      "differential_evolution step 28: f(x)= -143.741\n",
      "differential_evolution step 29: f(x)= -143.741\n",
      "differential_evolution step 30: f(x)= -143.757\n",
      "differential_evolution step 31: f(x)= -143.848\n",
      "differential_evolution step 32: f(x)= -143.917\n",
      "differential_evolution step 33: f(x)= -143.928\n",
      "differential_evolution step 34: f(x)= -143.935\n",
      "total computational time is  6.3237   seconds\n",
      "optimization results are : [-3.89933383e+00  2.38964260e+00  1.60657466e+00  1.77124520e-01\n",
      " -2.81881930e+00  2.46312016e+00 -9.55258676e-01  3.17637638e+00\n",
      "  1.79868446e+00 -7.76280109e-01 -9.26930345e-01  1.39220624e+00\n",
      " -3.35805613e+00  1.65260352e-02 -3.92985641e+00 -1.91631873e+00\n",
      " -4.14487614e+00  2.86607324e+00 -2.40586189e+00 -3.70803145e+00\n",
      " -2.86304863e+00  1.41943382e+00  3.75627529e+00  3.11999051e-01\n",
      "  7.08525972e-01 -1.02434299e+00  1.17894933e+00 -5.98482558e-04\n",
      "  4.29516200e-01 -3.83084369e+00  1.48751325e+00  4.01164258e-02\n",
      "  1.97231464e+00 -7.79200699e-01  2.38175818e+00 -2.58187256e-01\n",
      " -3.39719366e+00  4.81429705e+00  2.38375877e-01  1.75114084e+00\n",
      " -1.52381498e-02  2.83487653e+00  5.73753691e-01 -1.36947674e+00\n",
      "  1.69080756e+00 -3.87298924e-01  1.63429952e+00 -1.85246883e+00\n",
      "  1.36283688e+00  9.31342952e-01]\n",
      "\n",
      "      fun: -143.94369051134336\n",
      "     jac: array([-5.68434189e-06,  0.00000000e+00,  0.00000000e+00, -5.68434189e-06,\n",
      "       -5.68434189e-06,  0.00000000e+00,  0.00000000e+00, -5.68434189e-06,\n",
      "        0.00000000e+00, -5.68434189e-06,  0.00000000e+00,  0.00000000e+00,\n",
      "       -5.68434189e-06,  0.00000000e+00, -5.68434189e-06, -5.68434189e-06,\n",
      "        0.00000000e+00, -5.68434189e-06, -5.68434189e-06,  0.00000000e+00,\n",
      "       -5.68434189e-06, -5.68434189e-06, -5.68434189e-06, -5.68434189e-06,\n",
      "       -5.68434189e-06,  0.00000000e+00, -5.68434189e-06,  0.00000000e+00,\n",
      "        0.00000000e+00,  0.00000000e+00, -5.68434189e-06, -5.68434189e-06,\n",
      "        0.00000000e+00, -5.68434189e-06, -5.68434189e-06, -5.68434189e-06,\n",
      "        0.00000000e+00,  0.00000000e+00, -2.84217094e-06,  2.84217094e-06,\n",
      "        2.84217094e-06, -2.84217094e-06,  2.84217094e-06,  0.00000000e+00,\n",
      "        0.00000000e+00, -2.84217094e-06,  0.00000000e+00, -2.84217094e-06,\n",
      "        0.00000000e+00,  2.84217094e-06])\n",
      " message: 'Optimization terminated successfully.'\n",
      "    nfev: 52755\n",
      "     nit: 34\n",
      " success: True\n",
      "       x: array([-3.89933383e+00,  2.38964260e+00,  1.60657466e+00,  1.77124520e-01,\n",
      "       -2.81881930e+00,  2.46312016e+00, -9.55258676e-01,  3.17637638e+00,\n",
      "        1.79868446e+00, -7.76280109e-01, -9.26930345e-01,  1.39220624e+00,\n",
      "       -3.35805613e+00,  1.65260352e-02, -3.92985641e+00, -1.91631873e+00,\n",
      "       -4.14487614e+00,  2.86607324e+00, -2.40586189e+00, -3.70803145e+00,\n",
      "       -2.86304863e+00,  1.41943382e+00,  3.75627529e+00,  3.11999051e-01,\n",
      "        7.08525972e-01, -1.02434299e+00,  1.17894933e+00, -5.98482558e-04,\n",
      "        4.29516200e-01, -3.83084369e+00,  1.48751325e+00,  4.01164258e-02,\n",
      "        1.97231464e+00, -7.79200699e-01,  2.38175818e+00, -2.58187256e-01,\n",
      "       -3.39719366e+00,  4.81429705e+00,  2.38375877e-01,  1.75114084e+00,\n",
      "       -1.52381498e-02,  2.83487653e+00,  5.73753691e-01, -1.36947674e+00,\n",
      "        1.69080756e+00, -3.87298924e-01,  1.63429952e+00, -1.85246883e+00,\n",
      "        1.36283688e+00,  9.31342952e-01])\n"
     ]
    },
    {
     "data": {
      "image/png": "[encoded data removed]",
      "text/plain": [
       "<Figure size 432x288 with 1 Axes>"
      ]
     },
     "metadata": {
      "needs_background": "light"
     },
     "output_type": "display_data"
    }
   ],
   "source": [
    "#for dim D = 50\n",
    "problem(50,objective_F4,-5,5)"
   ]
  },
  {
   "cell_type": "code",
   "execution_count": null,
   "metadata": {},
   "outputs": [
    {
     "name": "stdout",
     "output_type": "stream",
     "text": [
      "differential_evolution step 1: f(x)= 8683.55\n",
      "differential_evolution step 2: f(x)= 8379.6\n",
      "differential_evolution step 3: f(x)= 8379.6\n",
      "differential_evolution step 4: f(x)= 8379.6\n",
      "differential_evolution step 5: f(x)= 7230.12\n",
      "differential_evolution step 6: f(x)= 7230.12\n",
      "differential_evolution step 7: f(x)= 7207.53\n",
      "differential_evolution step 8: f(x)= 7207.53\n",
      "differential_evolution step 9: f(x)= 7207.53\n",
      "differential_evolution step 10: f(x)= 6867.48\n",
      "differential_evolution step 11: f(x)= 6076.26\n",
      "differential_evolution step 12: f(x)= 5744.9\n",
      "differential_evolution step 13: f(x)= 5501.88\n",
      "differential_evolution step 14: f(x)= 5154.64\n",
      "differential_evolution step 15: f(x)= 4855.13\n",
      "differential_evolution step 16: f(x)= 4546.62\n",
      "differential_evolution step 17: f(x)= 4537.91\n",
      "differential_evolution step 18: f(x)= 4537.91\n",
      "differential_evolution step 19: f(x)= 4409.4\n",
      "differential_evolution step 20: f(x)= 4245.73\n",
      "differential_evolution step 21: f(x)= 4241.84\n",
      "differential_evolution step 22: f(x)= 4241.84\n",
      "differential_evolution step 23: f(x)= 4241.84\n",
      "differential_evolution step 24: f(x)= 4238.45\n",
      "differential_evolution step 25: f(x)= 4144.04\n",
      "differential_evolution step 26: f(x)= 4041.78\n",
      "differential_evolution step 27: f(x)= 3979.7\n",
      "differential_evolution step 28: f(x)= 3894.9\n",
      "differential_evolution step 29: f(x)= 3846.82\n"
     ]
    }
   ],
   "source": [
    "#for dim D = 500\n",
    "obj=[]\n",
    "problem(500,objective_F4,-5,5)"
   ]
  },
  {
   "cell_type": "code",
   "execution_count": null,
   "metadata": {},
   "outputs": [],
   "source": []
  }
 ],
 "metadata": {
  "kernelspec": {
   "display_name": "Python 3",
   "language": "python",
   "name": "python3"
  },
  "language_info": {
   "codemirror_mode": {
    "name": "ipython",
    "version": 3
   },
   "file_extension": ".py",
   "mimetype": "text/x-python",
   "name": "python",
   "nbconvert_exporter": "python",
   "pygments_lexer": "ipython3",
   "version": "3.6.10"
  }
 },
 "nbformat": 4,
 "nbformat_minor": 2
}
